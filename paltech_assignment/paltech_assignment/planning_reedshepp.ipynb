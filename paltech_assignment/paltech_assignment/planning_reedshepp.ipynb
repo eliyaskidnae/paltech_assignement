{
 "cells": [
  {
   "cell_type": "code",
   "execution_count": 11,
   "metadata": {},
   "outputs": [
    {
     "name": "stdout",
     "output_type": "stream",
     "text": [
      "Requirement already satisfied: ortools in /home/elias/.local/lib/python3.8/site-packages (9.10.4067)\n",
      "Requirement already satisfied: protobuf>=5.26.1 in /home/elias/.local/lib/python3.8/site-packages (from ortools) (5.26.1)\n",
      "Requirement already satisfied: pandas>=2.0.0 in /home/elias/.local/lib/python3.8/site-packages (from ortools) (2.0.3)\n",
      "Requirement already satisfied: absl-py>=2.0.0 in /home/elias/.local/lib/python3.8/site-packages (from ortools) (2.1.0)\n",
      "Requirement already satisfied: numpy>=1.13.3 in /home/elias/.local/lib/python3.8/site-packages (from ortools) (1.24.4)\n",
      "Requirement already satisfied: immutabledict>=3.0.0 in /home/elias/.local/lib/python3.8/site-packages (from ortools) (4.2.0)\n",
      "Requirement already satisfied: python-dateutil>=2.8.2 in /home/elias/.local/lib/python3.8/site-packages (from pandas>=2.0.0->ortools) (2.8.2)\n",
      "Requirement already satisfied: pytz>=2020.1 in /home/elias/.local/lib/python3.8/site-packages (from pandas>=2.0.0->ortools) (2024.1)\n",
      "Requirement already satisfied: tzdata>=2022.1 in /home/elias/.local/lib/python3.8/site-packages (from pandas>=2.0.0->ortools) (2024.1)\n",
      "Requirement already satisfied: six>=1.5 in /usr/lib/python3/dist-packages (from python-dateutil>=2.8.2->pandas>=2.0.0->ortools) (1.14.0)\n",
      "Requirement already satisfied: actionlib==1.14.0 in /opt/ros/noetic/lib/python3/dist-packages (1.14.0)\n",
      "Requirement already satisfied: addict==2.4.0 in /home/elias/.local/lib/python3.8/site-packages (2.4.0)\n",
      "Requirement already satisfied: angles==1.9.13 in /opt/ros/noetic/lib/python3/dist-packages (1.9.13)\n",
      "Requirement already satisfied: ansitable==0.9.10 in /home/elias/.local/lib/python3.8/site-packages (0.9.10)\n",
      "Requirement already satisfied: colored<1.5.0 in /home/elias/.local/lib/python3.8/site-packages (from ansitable==0.9.10) (1.4.4)\n",
      "Requirement already satisfied: anyio==4.2.0 in /home/elias/.local/lib/python3.8/site-packages (4.2.0)\n",
      "Requirement already satisfied: sniffio>=1.1 in /home/elias/.local/lib/python3.8/site-packages (from anyio==4.2.0) (1.3.0)\n",
      "Requirement already satisfied: exceptiongroup>=1.0.2; python_version < \"3.11\" in /home/elias/.local/lib/python3.8/site-packages (from anyio==4.2.0) (1.2.0)\n",
      "Requirement already satisfied: idna>=2.8 in /usr/lib/python3/dist-packages (from anyio==4.2.0) (2.8)\n",
      "Requirement already satisfied: typing-extensions>=4.1; python_version < \"3.11\" in /home/elias/.local/lib/python3.8/site-packages (from anyio==4.2.0) (4.9.0)\n",
      "Requirement already satisfied: apturl==0.5.2 in /usr/lib/python3/dist-packages (0.5.2)\n"
     ]
    }
   ],
   "source": [
    "!pip install ortools\n",
    "!pip install actionlib==1.14.0\n",
    "!pip install addict==2.4.0\n",
    "!pip install angles==1.9.13\n",
    "!pip install ansitable==0.9.10\n",
    "!pip install anyio==4.2.0\n",
    "!pip install apturl==0.5.2"
   ]
  },
  {
   "cell_type": "code",
   "execution_count": null,
   "metadata": {},
   "outputs": [],
   "source": []
  },
  {
   "cell_type": "code",
   "execution_count": null,
   "metadata": {},
   "outputs": [],
   "source": []
  }
 ],
 "metadata": {
  "kernelspec": {
   "display_name": "Python 3",
   "language": "python",
   "name": "python3"
  },
  "language_info": {
   "codemirror_mode": {
    "name": "ipython",
    "version": 3
   },
   "file_extension": ".py",
   "mimetype": "text/x-python",
   "name": "python",
   "nbconvert_exporter": "python",
   "pygments_lexer": "ipython3",
   "version": "3.8.10"
  }
 },
 "nbformat": 4,
 "nbformat_minor": 2
}
